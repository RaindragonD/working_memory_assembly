{
 "cells": [
  {
   "cell_type": "code",
   "execution_count": 1,
   "metadata": {},
   "outputs": [],
   "source": [
    "import matplotlib.pyplot as plt\n",
    "from brain import *"
   ]
  },
  {
   "cell_type": "code",
   "execution_count": 2,
   "metadata": {},
   "outputs": [],
   "source": [
    "k = 1e2\n",
    "n = 1e4\n",
    "p = 0.1\n",
    "b = 0.1\n",
    "T = 10"
   ]
  },
  {
   "cell_type": "code",
   "execution_count": 6,
   "metadata": {},
   "outputs": [],
   "source": [
    "\n",
    "def test_memorization_convergence(num_engrams):\n",
    "    mem = Memory(k, n, p, b, T)\n",
    "    concept, all_assemblies = mem.add_concept('Christos', num_engrams)\n",
    "    t_mem = 200\n",
    "    stimulus = Stimulus(k, n, p, attribute='Christos')\n",
    "    fiber = Fiber(n, p, b) # concept <-> area\n",
    "    concept_winners, covergence_timestep = \\\n",
    "        mem.stimulate_WM(stimulus, fiber, t_mem, until_converge=True)\n",
    "    intersection = np.array([len(np.intersect1d(concept_winners, asseb)) \\\n",
    "         for asseb in all_assemblies])\n",
    "    mean_intersection = np.mean(intersection)\n",
    "    print(mean_intersection, covergence_timestep)\n",
    "    return mean_intersection, covergence_timestep"
   ]
  },
  {
   "cell_type": "code",
   "execution_count": 7,
   "metadata": {},
   "outputs": [
    {
     "name": "stdout",
     "output_type": "stream",
     "text": [
      "0.76 123\n",
      "1.02 77\n",
      "1.1 90\n",
      "1.04 124\n",
      "1.18 96\n",
      "1.1 129\n",
      "0.9 111\n",
      "1.24 95\n",
      "1.06 139\n",
      "1.0 96\n",
      "1.04 91\n",
      "1.1 141\n",
      "0.92 138\n",
      "1.08 122\n",
      "0.82 131\n",
      "0.96 138\n",
      "1.12 116\n",
      "0.96 129\n",
      "1.12 106\n",
      "1.02 86\n",
      "1.14 117\n",
      "1.16 125\n",
      "1.06 111\n",
      "1.14 94\n",
      "1.14 124\n",
      "0.78 107\n",
      "1.16 106\n",
      "1.1 94\n",
      "1.02 73\n",
      "1.1 136\n",
      "1.06 98\n",
      "1.0 134\n",
      "1.12 110\n",
      "0.84 110\n",
      "0.92 100\n",
      "1.04 114\n",
      "1.0 130\n",
      "1.2 112\n",
      "1.02 123\n",
      "0.84 101\n",
      "0.84 111\n",
      "0.9 99\n",
      "1.04 124\n",
      "1.22 95\n",
      "0.78 108\n",
      "1.14 124\n",
      "1.06 134\n",
      "1.12 101\n",
      "1.04 143\n",
      "1.06 112\n",
      "0.86 111\n",
      "0.98 93\n",
      "0.82 93\n",
      "1.22 117\n",
      "1.3 110\n",
      "0.76 104\n",
      "1.08 137\n",
      "1.14 110\n",
      "0.94 124\n",
      "0.92 92\n",
      "1.02 116\n",
      "1.08 81\n",
      "1.02 100\n",
      "0.8 113\n",
      "1.08 83\n",
      "0.94 93\n",
      "1.04 110\n",
      "1.2 144\n",
      "1.06 113\n",
      "1.0 119\n",
      "1.12 101\n",
      "0.74 116\n",
      "1.2 108\n",
      "1.04 106\n",
      "1.24 108\n",
      "0.74 101\n",
      "0.96 122\n",
      "1.04 129\n",
      "1.3 108\n",
      "1.0 136\n",
      "1.1 126\n",
      "1.34 104\n",
      "0.88 110\n",
      "1.12 122\n",
      "0.88 122\n",
      "1.0 97\n",
      "0.88 126\n",
      "1.24 89\n",
      "1.24 104\n",
      "1.06 126\n",
      "1.18 121\n",
      "1.16 142\n",
      "0.92 120\n",
      "1.0 115\n",
      "0.96 118\n",
      "0.92 99\n",
      "0.92 114\n",
      "1.02 119\n",
      "1.16 138\n",
      "1.0 127\n"
     ]
    }
   ],
   "source": [
    "xs, ys = [], []\n",
    "for _ in range(100):\n",
    "    x, y = test_memorization_convergence(50)\n",
    "    xs.append(x)\n",
    "    ys.append(y)\n",
    "xs, ys = np.array(xs), np.array(ys)"
   ]
  },
  {
   "cell_type": "code",
   "execution_count": 9,
   "metadata": {},
   "outputs": [
    {
     "data": {
      "image/png": "[encoded data removed]",
      "text/plain": [
       "<Figure size 432x288 with 1 Axes>"
      ]
     },
     "metadata": {
      "needs_background": "light"
     },
     "output_type": "display_data"
    }
   ],
   "source": [
    "plt.scatter(xs, ys)\n",
    "plt.title('Timestep for Convergence vs. Overlap with Existing Assemblies')\n",
    "plt.xlabel('Overlap Percentage')\n",
    "plt.ylabel('Final Timestep')\n",
    "plt.savefig('convergence.jpg')"
   ]
  },
  {
   "cell_type": "code",
   "execution_count": null,
   "metadata": {},
   "outputs": [],
   "source": [
    "\n",
    "def test_convergence(num_engrams):\n",
    "    mem = Memory(k, n, p, b, T)\n",
    "    concept, all_assemblies = mem.add_concept('Christos', num_engrams)\n",
    "    t_mem = 200\n",
    "    stimulus = Stimulus(k, n, p, attribute='Christos')\n",
    "    fiber = Fiber(n, p, b) # concept <-> area\n",
    "    _, (ogger_area, logger_concept) = \\\n",
    "        mem.stimulate_WM(stimulus, fiber, t_mem, return_log=True)\n",
    "    return ogger_area, logger_concept"
   ]
  },
  {
   "cell_type": "code",
   "execution_count": null,
   "metadata": {},
   "outputs": [],
   "source": [
    "logger_area, logger_concept = test_convergence(20)"
   ]
  },
  {
   "cell_type": "code",
   "execution_count": null,
   "metadata": {},
   "outputs": [],
   "source": [
    "plt.plot(range(1,15), logger_area.num_new_winners[:14])\n",
    "plt.title('Numer of New Winners in WM vs. Timestep')\n",
    "plt.xlabel('timestep')\n",
    "plt.ylabel('Number of New Winners in Winners')\n",
    "plt.savefig('WM_convergence.jpg')"
   ]
  },
  {
   "cell_type": "code",
   "execution_count": null,
   "metadata": {},
   "outputs": [],
   "source": [
    "plt.plot(range(1,200), logger_concept.num_new_winners)\n",
    "plt.title('Numer of New Winners in Long-term Memory vs. Timestep')\n",
    "plt.xlabel('timestep')\n",
    "plt.ylabel('Number of New Winners in Winners')\n",
    "plt.savefig('LT_convergence.jpg')"
   ]
  },
  {
   "cell_type": "code",
   "execution_count": null,
   "metadata": {},
   "outputs": [],
   "source": []
  }
 ],
 "metadata": {
  "interpreter": {
   "hash": "73c667b149d6e1124678e962a434f0ad1f679818b075e7ad357f3d3e2f2fbf8a"
  },
  "kernelspec": {
   "display_name": "Python 3.7.4 64-bit ('base': conda)",
   "language": "python",
   "name": "python3"
  },
  "language_info": {
   "codemirror_mode": {
    "name": "ipython",
    "version": 3
   },
   "file_extension": ".py",
   "mimetype": "text/x-python",
   "name": "python",
   "nbconvert_exporter": "python",
   "pygments_lexer": "ipython3",
   "version": "3.7.4"
  },
  "orig_nbformat": 4
 },
 "nbformat": 4,
 "nbformat_minor": 2
}
