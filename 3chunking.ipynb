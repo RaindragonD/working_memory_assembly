{
 "cells": [
  {
   "cell_type": "code",
   "execution_count": 1,
   "metadata": {},
   "outputs": [],
   "source": [
    "import matplotlib.pyplot as plt\n",
    "from brain import *"
   ]
  },
  {
   "cell_type": "code",
   "execution_count": 2,
   "metadata": {},
   "outputs": [],
   "source": [
    "k = 1e2\n",
    "n = int(1e4)\n",
    "p = 0.1\n",
    "b = 0.1\n",
    "T = 10"
   ]
  },
  {
   "cell_type": "code",
   "execution_count": 3,
   "metadata": {},
   "outputs": [
    {
     "name": "stdout",
     "output_type": "stream",
     "text": [
      "0\n",
      "1 3\n",
      "4 2\n",
      "4 0\n",
      "4 2\n",
      "2 2\n",
      "5 2\n",
      "5 1\n",
      "3 3\n",
      "5 2\n",
      "4 1\n",
      "3 3\n",
      "3 5\n",
      "4 2\n",
      "4 1\n"
     ]
    }
   ],
   "source": [
    "\n",
    "mem = Memory(k, 2*n, p, b, T)\n",
    "# concept, all_assemblies = mem.add_concept('Christos', num_engrams)\n",
    "mem.add_concept('Christos+Brain', 0)\n",
    "\n",
    "stim1 = Stimulus(k, 2*n, p, attribute='Christos+Brain')\n",
    "stim1.weights[n:] = 0\n",
    "stim2 = Stimulus(k, 2*n, p, attribute='Christos+Brain')\n",
    "stim2.weights[:n] = 0\n",
    "fiber1 = Fiber(2*n, p, b)\n",
    "fiber1.connectome[n:, :] = 0\n",
    "fiber1.connectome[:n, n:] = 0\n",
    "fiber2 = Fiber(2*n, p, b)\n",
    "fiber2.connectome[:n, :] = 0\n",
    "fiber2.connectome[n:, :n] = 0\n",
    "\n",
    "stim_combine = Stimulus(k, 2*n, p, attribute='Christos+Brain')\n",
    "stim_combine.weights[:n] = stim1.weights[:n]\n",
    "stim_combine.weights[n:] = stim2.weights[n:]\n",
    "fiber_combine = Fiber(2*n, p, b)\n",
    "fiber_combine.connectome[:n, :n] = fiber1.connectome[:n, :n]\n",
    "fiber_combine.connectome[n:, n:] = fiber2.connectome[n:, n:]\n",
    "\n",
    "asseb1, t1 = mem.stimulate_WM(stim1, fiber1, 200, until_converge=True)\n",
    "asseb2, t2 = mem.stimulate_WM(stim2, fiber2, 200, until_converge=True)\n",
    "\n",
    "print(len(np.intersect1d(asseb1, asseb2)))\n",
    "\n",
    "import copy\n",
    "time_step, inx1, inx2 = [], [], []\n",
    "for t in range(10, 251, 10):\n",
    "    mem_copy = copy.deepcopy(mem)\n",
    "    stim_copy = copy.deepcopy(stim_combine)\n",
    "    fiber_copy = copy.deepcopy(fiber_combine)\n",
    "\n",
    "    final_asseb = mem_copy.stimulate_WM(stim_copy, fiber_copy, t)\n",
    "\n",
    "    ints1 = len(np.intersect1d(asseb1, final_asseb))\n",
    "    ints2 = len(np.intersect1d(asseb2, final_asseb))\n",
    "    print(ints1, ints2)\n",
    "    time_step.append(t)\n",
    "    inx1.append(ints1)\n",
    "    inx2.append(ints2)"
   ]
  },
  {
   "cell_type": "code",
   "execution_count": null,
   "metadata": {},
   "outputs": [],
   "source": [
    "plt.plot(time_step, inx1)"
   ]
  },
  {
   "cell_type": "code",
   "execution_count": null,
   "metadata": {},
   "outputs": [],
   "source": [
    "plt.plot(time_step, inx2)"
   ]
  },
  {
   "cell_type": "code",
   "execution_count": null,
   "metadata": {},
   "outputs": [],
   "source": []
  }
 ],
 "metadata": {
  "interpreter": {
   "hash": "73c667b149d6e1124678e962a434f0ad1f679818b075e7ad357f3d3e2f2fbf8a"
  },
  "kernelspec": {
   "display_name": "Python 3.7.4 64-bit ('base': conda)",
   "language": "python",
   "name": "python3"
  },
  "language_info": {
   "codemirror_mode": {
    "name": "ipython",
    "version": 3
   },
   "file_extension": ".py",
   "mimetype": "text/x-python",
   "name": "python",
   "nbconvert_exporter": "python",
   "pygments_lexer": "ipython3",
   "version": "3.7.4"
  },
  "orig_nbformat": 4
 },
 "nbformat": 4,
 "nbformat_minor": 2
}
